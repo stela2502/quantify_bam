{
 "cells": [
  {
   "cell_type": "code",
   "execution_count": 1,
   "id": "5698ec5b-5e95-4010-933d-15f6e13ca448",
   "metadata": {},
   "outputs": [
    {
     "name": "stderr",
     "output_type": "stream",
     "text": [
      "Loading required package: SeuratObject\n",
      "\n",
      "Loading required package: sp\n",
      "\n",
      "\n",
      "Attaching package: ‘SeuratObject’\n",
      "\n",
      "\n",
      "The following objects are masked from ‘package:base’:\n",
      "\n",
      "    intersect, t\n",
      "\n",
      "\n"
     ]
    }
   ],
   "source": [
    "library(Seurat)"
   ]
  },
  {
   "cell_type": "code",
   "execution_count": 2,
   "id": "3924934f-9eb0-4600-9bd6-35b31d1341d4",
   "metadata": {},
   "outputs": [],
   "source": [
    "# Define folder paths to your 10x Genomics data\n",
    "folder1 <- \"/tmp/test/BD_Rhapsody_expression/\"\n",
    "folder2 <- \"/tmp/test2/BD_Rhapsody_expression/\"\n",
    "\n",
    "# Read the 10x data into Seurat objects\n",
    "seurat1 <- Read10X(folder1)\n",
    "seurat2 <- Read10X(folder2)"
   ]
  },
  {
   "cell_type": "code",
   "execution_count": 3,
   "id": "baa4fb89-f57d-4426-a0c2-7503399d9276",
   "metadata": {},
   "outputs": [
    {
     "name": "stderr",
     "output_type": "stream",
     "text": [
      "Warning message:\n",
      "“Feature names cannot have underscores ('_'), replacing with dashes ('-')”\n",
      "Warning message:\n",
      "“Feature names cannot have underscores ('_'), replacing with dashes ('-')”\n"
     ]
    }
   ],
   "source": [
    "# Create Seurat objects\n",
    "seurat_obj1 <- CreateSeuratObject(counts = seurat1)\n",
    "seurat_obj2 <- CreateSeuratObject(counts = seurat2)"
   ]
  },
  {
   "cell_type": "code",
   "execution_count": 4,
   "id": "299de06a-39ee-4fd7-976d-15ebc76b3990",
   "metadata": {},
   "outputs": [],
   "source": [
    "# Find common genes and barcodes\n",
    "common_genes <- intersect(rownames(seurat_obj1), rownames(seurat_obj2))\n",
    "common_barcodes <- intersect(colnames(seurat_obj1), colnames(seurat_obj2))"
   ]
  },
  {
   "cell_type": "code",
   "execution_count": 5,
   "id": "a485567a-752e-4e3c-a628-8af6597313ad",
   "metadata": {},
   "outputs": [
    {
     "data": {
      "text/plain": [
       "An object of class Seurat \n",
       "48 features across 24039 samples within 1 assay \n",
       "Active assay: RNA (48 features, 0 variable features)\n",
       " 1 layer present: counts"
      ]
     },
     "metadata": {},
     "output_type": "display_data"
    }
   ],
   "source": [
    "seurat_obj1"
   ]
  },
  {
   "cell_type": "code",
   "execution_count": 6,
   "id": "6baddd4b-8c52-4f36-adc5-8da456852678",
   "metadata": {},
   "outputs": [
    {
     "data": {
      "text/plain": [
       "An object of class Seurat \n",
       "48 features across 24039 samples within 1 assay \n",
       "Active assay: RNA (48 features, 0 variable features)\n",
       " 1 layer present: counts"
      ]
     },
     "metadata": {},
     "output_type": "display_data"
    }
   ],
   "source": [
    "seurat_obj2"
   ]
  },
  {
   "cell_type": "code",
   "execution_count": 7,
   "id": "b0bf1270-1b2b-4271-b7f7-bcd85d21f691",
   "metadata": {},
   "outputs": [
    {
     "name": "stdout",
     "output_type": "stream",
     "text": [
      "[1] \"genes in 1 and not 2\"\n"
     ]
    },
    {
     "data": {
      "text/html": [],
      "text/latex": [],
      "text/markdown": [],
      "text/plain": [
       "character(0)"
      ]
     },
     "metadata": {},
     "output_type": "display_data"
    }
   ],
   "source": [
    "diff_genes = setdiff(rownames(seurat_obj1), rownames(seurat_obj2))\n",
    "print( \"genes in 1 and not 2\" )\n",
    "diff_genes"
   ]
  },
  {
   "cell_type": "code",
   "execution_count": 8,
   "id": "9c1fc0e4-316f-4086-bdd6-f64cdb0d9416",
   "metadata": {},
   "outputs": [
    {
     "name": "stdout",
     "output_type": "stream",
     "text": [
      "[1] \"genes in 2 and not 1\"\n"
     ]
    },
    {
     "data": {
      "text/html": [],
      "text/latex": [],
      "text/markdown": [],
      "text/plain": [
       "character(0)"
      ]
     },
     "metadata": {},
     "output_type": "display_data"
    }
   ],
   "source": [
    "diff_genes = setdiff(rownames(seurat_obj2), rownames(seurat_obj1))\n",
    "print( \"genes in 2 and not 1\" )\n",
    "diff_genes"
   ]
  },
  {
   "cell_type": "code",
   "execution_count": 9,
   "id": "214442d5-a1a5-4de2-be88-20b6ee3bc47a",
   "metadata": {},
   "outputs": [
    {
     "name": "stdout",
     "output_type": "stream",
     "text": [
      "[1] \"cells in 1 and not 2\"\n"
     ]
    },
    {
     "data": {
      "text/html": [],
      "text/latex": [],
      "text/markdown": [],
      "text/plain": [
       "character(0)"
      ]
     },
     "metadata": {},
     "output_type": "display_data"
    }
   ],
   "source": [
    "diff_cells = setdiff(colnames(seurat_obj1), colnames(seurat_obj2))\n",
    "print( \"cells in 1 and not 2\" )\n",
    "diff_cells"
   ]
  },
  {
   "cell_type": "code",
   "execution_count": 10,
   "id": "38c515a7-84d1-4b4d-b34a-cfba141158c3",
   "metadata": {},
   "outputs": [
    {
     "name": "stdout",
     "output_type": "stream",
     "text": [
      "[1] \"cells in 2 and not 1\"\n"
     ]
    },
    {
     "data": {
      "text/html": [],
      "text/latex": [],
      "text/markdown": [],
      "text/plain": [
       "character(0)"
      ]
     },
     "metadata": {},
     "output_type": "display_data"
    }
   ],
   "source": [
    "diff_cells = setdiff(colnames(seurat_obj2), colnames(seurat_obj1))\n",
    "print( \"cells in 2 and not 1\" )\n",
    "diff_cells"
   ]
  },
  {
   "cell_type": "code",
   "execution_count": 11,
   "id": "c28f81b8-5f14-4344-a9c0-94b97471809d",
   "metadata": {},
   "outputs": [
    {
     "data": {
      "text/html": [
       "<style>\n",
       ".dl-inline {width: auto; margin:0; padding: 0}\n",
       ".dl-inline>dt, .dl-inline>dd {float: none; width: auto; display: inline-block}\n",
       ".dl-inline>dt::after {content: \":\\0020\"; padding-right: .5ex}\n",
       ".dl-inline>dt:not(:first-of-type) {padding-left: .5ex}\n",
       "</style><dl class=dl-inline><dt>Igkv8-16-unspliced</dt><dd>2</dd><dt>Igkv6-14</dt><dd>1</dd><dt>Igkv6-23-unspliced</dt><dd>1</dd><dt>Igkv8-26</dt><dd>1</dd><dt>Igkv3-4-unspliced</dt><dd>2</dd><dt>Gm30211</dt><dd>106</dd><dt>Igkv3-12-1</dt><dd>1</dd><dt>Igkv3-2-unspliced</dt><dd>2</dd><dt>Gm42720</dt><dd>1</dd><dt>Igkc</dt><dd>41382</dd><dt>ENSMUSG00000119951-unspliced</dt><dd>6</dd><dt>Igkv6-25</dt><dd>4</dd><dt>Igkv3-3</dt><dd>1</dd><dt>Igkv8-16</dt><dd>1</dd><dt>Igkv3-4</dt><dd>10</dd><dt>Igkv8-24-unspliced</dt><dd>1</dd><dt>Igkv3-7-unspliced</dt><dd>2</dd><dt>ENSMUSG00000120845-unspliced</dt><dd>1</dd><dt>Igkv3-5</dt><dd>5</dd><dt>Igkj1</dt><dd>653</dd><dt>Igkv3-10-unspliced</dt><dd>2</dd><dt>Igkv3-10</dt><dd>1</dd><dt>Igkj3-unspliced</dt><dd>1</dd><dt>Igkv3-2</dt><dd>3</dd><dt>Igkv3-7</dt><dd>4</dd><dt>Igkv6-25-unspliced</dt><dd>30</dd><dt>Igkv3-3-unspliced</dt><dd>1</dd><dt>Igkc-unspliced</dt><dd>2558</dd><dt>Igkv3-12-unspliced</dt><dd>2</dd><dt>Igkv3-1</dt><dd>14</dd><dt>Igkj2-unspliced</dt><dd>263</dd><dt>Igkj1-unspliced</dt><dd>281</dd><dt>Igkj2</dt><dd>531</dd><dt>Igkj4</dt><dd>291</dd><dt>Igkj5-unspliced</dt><dd>145</dd><dt>Igkv3-11</dt><dd>3</dd><dt>Gm30211-unspliced</dt><dd>486</dd><dt>Igkv6-13-unspliced</dt><dd>5</dd><dt>Igkv6-17</dt><dd>3</dd><dt>Igkv6-17-unspliced</dt><dd>16</dd><dt>Igkj4-unspliced</dt><dd>263</dd><dt>Igkv6-13</dt><dd>2</dd><dt>Igkv3-6</dt><dd>1</dd><dt>Gm10360</dt><dd>1</dd><dt>ENSMUSG00000119951</dt><dd>3</dd><dt>Igkv3-1-unspliced</dt><dd>2</dd><dt>Igkj5</dt><dd>294</dd><dt>Igkv8-18-unspliced</dt><dd>1</dd></dl>\n"
      ],
      "text/latex": [
       "\\begin{description*}\n",
       "\\item[Igkv8-16-unspliced] 2\n",
       "\\item[Igkv6-14] 1\n",
       "\\item[Igkv6-23-unspliced] 1\n",
       "\\item[Igkv8-26] 1\n",
       "\\item[Igkv3-4-unspliced] 2\n",
       "\\item[Gm30211] 106\n",
       "\\item[Igkv3-12-1] 1\n",
       "\\item[Igkv3-2-unspliced] 2\n",
       "\\item[Gm42720] 1\n",
       "\\item[Igkc] 41382\n",
       "\\item[ENSMUSG00000119951-unspliced] 6\n",
       "\\item[Igkv6-25] 4\n",
       "\\item[Igkv3-3] 1\n",
       "\\item[Igkv8-16] 1\n",
       "\\item[Igkv3-4] 10\n",
       "\\item[Igkv8-24-unspliced] 1\n",
       "\\item[Igkv3-7-unspliced] 2\n",
       "\\item[ENSMUSG00000120845-unspliced] 1\n",
       "\\item[Igkv3-5] 5\n",
       "\\item[Igkj1] 653\n",
       "\\item[Igkv3-10-unspliced] 2\n",
       "\\item[Igkv3-10] 1\n",
       "\\item[Igkj3-unspliced] 1\n",
       "\\item[Igkv3-2] 3\n",
       "\\item[Igkv3-7] 4\n",
       "\\item[Igkv6-25-unspliced] 30\n",
       "\\item[Igkv3-3-unspliced] 1\n",
       "\\item[Igkc-unspliced] 2558\n",
       "\\item[Igkv3-12-unspliced] 2\n",
       "\\item[Igkv3-1] 14\n",
       "\\item[Igkj2-unspliced] 263\n",
       "\\item[Igkj1-unspliced] 281\n",
       "\\item[Igkj2] 531\n",
       "\\item[Igkj4] 291\n",
       "\\item[Igkj5-unspliced] 145\n",
       "\\item[Igkv3-11] 3\n",
       "\\item[Gm30211-unspliced] 486\n",
       "\\item[Igkv6-13-unspliced] 5\n",
       "\\item[Igkv6-17] 3\n",
       "\\item[Igkv6-17-unspliced] 16\n",
       "\\item[Igkj4-unspliced] 263\n",
       "\\item[Igkv6-13] 2\n",
       "\\item[Igkv3-6] 1\n",
       "\\item[Gm10360] 1\n",
       "\\item[ENSMUSG00000119951] 3\n",
       "\\item[Igkv3-1-unspliced] 2\n",
       "\\item[Igkj5] 294\n",
       "\\item[Igkv8-18-unspliced] 1\n",
       "\\end{description*}\n"
      ],
      "text/markdown": [
       "Igkv8-16-unspliced\n",
       ":   2Igkv6-14\n",
       ":   1Igkv6-23-unspliced\n",
       ":   1Igkv8-26\n",
       ":   1Igkv3-4-unspliced\n",
       ":   2Gm30211\n",
       ":   106Igkv3-12-1\n",
       ":   1Igkv3-2-unspliced\n",
       ":   2Gm42720\n",
       ":   1Igkc\n",
       ":   41382ENSMUSG00000119951-unspliced\n",
       ":   6Igkv6-25\n",
       ":   4Igkv3-3\n",
       ":   1Igkv8-16\n",
       ":   1Igkv3-4\n",
       ":   10Igkv8-24-unspliced\n",
       ":   1Igkv3-7-unspliced\n",
       ":   2ENSMUSG00000120845-unspliced\n",
       ":   1Igkv3-5\n",
       ":   5Igkj1\n",
       ":   653Igkv3-10-unspliced\n",
       ":   2Igkv3-10\n",
       ":   1Igkj3-unspliced\n",
       ":   1Igkv3-2\n",
       ":   3Igkv3-7\n",
       ":   4Igkv6-25-unspliced\n",
       ":   30Igkv3-3-unspliced\n",
       ":   1Igkc-unspliced\n",
       ":   2558Igkv3-12-unspliced\n",
       ":   2Igkv3-1\n",
       ":   14Igkj2-unspliced\n",
       ":   263Igkj1-unspliced\n",
       ":   281Igkj2\n",
       ":   531Igkj4\n",
       ":   291Igkj5-unspliced\n",
       ":   145Igkv3-11\n",
       ":   3Gm30211-unspliced\n",
       ":   486Igkv6-13-unspliced\n",
       ":   5Igkv6-17\n",
       ":   3Igkv6-17-unspliced\n",
       ":   16Igkj4-unspliced\n",
       ":   263Igkv6-13\n",
       ":   2Igkv3-6\n",
       ":   1Gm10360\n",
       ":   1ENSMUSG00000119951\n",
       ":   3Igkv3-1-unspliced\n",
       ":   2Igkj5\n",
       ":   294Igkv8-18-unspliced\n",
       ":   1\n",
       "\n"
      ],
      "text/plain": [
       "          Igkv8-16-unspliced                     Igkv6-14 \n",
       "                           2                            1 \n",
       "          Igkv6-23-unspliced                     Igkv8-26 \n",
       "                           1                            1 \n",
       "           Igkv3-4-unspliced                      Gm30211 \n",
       "                           2                          106 \n",
       "                  Igkv3-12-1            Igkv3-2-unspliced \n",
       "                           1                            2 \n",
       "                     Gm42720                         Igkc \n",
       "                           1                        41382 \n",
       "ENSMUSG00000119951-unspliced                     Igkv6-25 \n",
       "                           6                            4 \n",
       "                     Igkv3-3                     Igkv8-16 \n",
       "                           1                            1 \n",
       "                     Igkv3-4           Igkv8-24-unspliced \n",
       "                          10                            1 \n",
       "           Igkv3-7-unspliced ENSMUSG00000120845-unspliced \n",
       "                           2                            1 \n",
       "                     Igkv3-5                        Igkj1 \n",
       "                           5                          653 \n",
       "          Igkv3-10-unspliced                     Igkv3-10 \n",
       "                           2                            1 \n",
       "             Igkj3-unspliced                      Igkv3-2 \n",
       "                           1                            3 \n",
       "                     Igkv3-7           Igkv6-25-unspliced \n",
       "                           4                           30 \n",
       "           Igkv3-3-unspliced               Igkc-unspliced \n",
       "                           1                         2558 \n",
       "          Igkv3-12-unspliced                      Igkv3-1 \n",
       "                           2                           14 \n",
       "             Igkj2-unspliced              Igkj1-unspliced \n",
       "                         263                          281 \n",
       "                       Igkj2                        Igkj4 \n",
       "                         531                          291 \n",
       "             Igkj5-unspliced                     Igkv3-11 \n",
       "                         145                            3 \n",
       "           Gm30211-unspliced           Igkv6-13-unspliced \n",
       "                         486                            5 \n",
       "                    Igkv6-17           Igkv6-17-unspliced \n",
       "                           3                           16 \n",
       "             Igkj4-unspliced                     Igkv6-13 \n",
       "                         263                            2 \n",
       "                     Igkv3-6                      Gm10360 \n",
       "                           1                            1 \n",
       "          ENSMUSG00000119951            Igkv3-1-unspliced \n",
       "                           3                            2 \n",
       "                       Igkj5           Igkv8-18-unspliced \n",
       "                         294                            1 "
      ]
     },
     "metadata": {},
     "output_type": "display_data"
    }
   ],
   "source": [
    "rowSums(GetAssayData(seurat_obj2, layer = \"counts\"))"
   ]
  },
  {
   "cell_type": "code",
   "execution_count": 12,
   "id": "65c5dc59-6cac-43ca-8bda-3da9cd85007c",
   "metadata": {},
   "outputs": [
    {
     "name": "stderr",
     "output_type": "stream",
     "text": [
      "Warning message:\n",
      "“\u001b[1m\u001b[22mThe `slot` argument of `GetAssayData()` is deprecated as of SeuratObject 5.0.0.\n",
      "\u001b[36mℹ\u001b[39m Please use the `layer` argument instead.”\n"
     ]
    },
    {
     "data": {
      "image/png": "[encoded data removed]",
      "text/plain": [
       "plot without title"
      ]
     },
     "metadata": {
      "image/png": {
       "height": 420,
       "width": 420
      }
     },
     "output_type": "display_data"
    }
   ],
   "source": [
    "igkc1 <- GetAssayData(seurat_obj1[,common_barcodes], slot = \"counts\")[\"Igkc\", ]   # For folder1\n",
    "igkc2 <- GetAssayData(seurat_obj2[,common_barcodes], slot = \"counts\")[\"Igkc\", ]   # For folder2\n",
    "\n",
    "plot(igkc1, igkc2 )"
   ]
  },
  {
   "cell_type": "code",
   "execution_count": 13,
   "id": "0163df25-596d-48b4-b91f-3f7e672f441a",
   "metadata": {},
   "outputs": [
    {
     "data": {
      "text/html": [],
      "text/latex": [],
      "text/markdown": [],
      "text/plain": [
       "integer(0)"
      ]
     },
     "metadata": {},
     "output_type": "display_data"
    }
   ],
   "source": [
    "match ( diff_genes , rownames(seurat_obj1))"
   ]
  },
  {
   "cell_type": "code",
   "execution_count": 14,
   "id": "e3908868-412c-45cc-b5be-763bfa807903",
   "metadata": {},
   "outputs": [
    {
     "data": {
      "text/html": [],
      "text/latex": [],
      "text/markdown": [],
      "text/plain": [
       "integer(0)"
      ]
     },
     "metadata": {},
     "output_type": "display_data"
    }
   ],
   "source": [
    "match ( diff_genes , rownames(seurat_obj2))"
   ]
  },
  {
   "cell_type": "code",
   "execution_count": 15,
   "id": "b287faff-3a77-4adf-a1da-977f42b63d8d",
   "metadata": {},
   "outputs": [
    {
     "data": {
      "text/html": [],
      "text/latex": [],
      "text/markdown": [],
      "text/plain": [
       "character(0)"
      ]
     },
     "metadata": {},
     "output_type": "display_data"
    }
   ],
   "source": [
    "diff_cells = setdiff(colnames(seurat_obj1), colnames(seurat_obj2))\n",
    "diff_cells"
   ]
  },
  {
   "cell_type": "code",
   "execution_count": null,
   "id": "cf620f45-cf90-4d93-ab03-fb4a43032d96",
   "metadata": {},
   "outputs": [],
   "source": []
  },
  {
   "cell_type": "code",
   "execution_count": null,
   "id": "f6f10150-b96d-4648-b3e1-02250028c9f2",
   "metadata": {},
   "outputs": [],
   "source": []
  },
  {
   "cell_type": "code",
   "execution_count": 16,
   "id": "017d7a85-ac6a-472b-bf7d-7ee65fb51bbf",
   "metadata": {},
   "outputs": [
    {
     "data": {
      "text/html": [
       "<style>\n",
       ".list-inline {list-style: none; margin:0; padding: 0}\n",
       ".list-inline>li {display: inline-block}\n",
       ".list-inline>li:not(:last-child)::after {content: \"\\00b7\"; padding: 0 .5ex}\n",
       "</style>\n",
       "<ol class=list-inline><li>'Igkv8-16'</li><li>'Igkj5-unspliced'</li><li>'Igkv6-17'</li><li>'Gm30211-unspliced'</li><li>'Igkc'</li><li>'Igkj4'</li><li>'Igkv3-10'</li><li>'Igkv6-13'</li><li>'ENSMUSG00000120845-unspliced'</li><li>'Igkv3-12-1'</li><li>'Igkv3-4-unspliced'</li><li>'Igkv6-25'</li><li>'Igkv8-18-unspliced'</li><li>'Igkv3-3-unspliced'</li><li>'Igkc-unspliced'</li><li>'Igkv6-17-unspliced'</li><li>'Igkv3-7-unspliced'</li><li>'Igkj2-unspliced'</li><li>'Igkv3-2'</li><li>'Igkj4-unspliced'</li><li>'Gm30211'</li><li>'Igkj3-unspliced'</li><li>'Igkj2'</li><li>'Igkv6-13-unspliced'</li><li>'Igkv3-12-unspliced'</li><li>'Igkv3-2-unspliced'</li><li>'Gm10360'</li><li>'Igkv3-4'</li><li>'Gm42720'</li><li>'Igkj1'</li><li>'Igkv3-6'</li><li>'Igkv6-23-unspliced'</li><li>'Igkv8-16-unspliced'</li><li>'Igkv3-1'</li><li>'Igkv3-3'</li><li>'Igkv3-7'</li><li>'Igkj5'</li><li>'Igkv8-24-unspliced'</li><li>'Igkv8-26'</li><li>'ENSMUSG00000119951'</li><li>'Igkv3-1-unspliced'</li><li>'Igkv3-11'</li><li>'Igkj1-unspliced'</li><li>'Igkv3-10-unspliced'</li><li>'Igkv3-5'</li><li>'Igkv6-14'</li><li>'Igkv6-25-unspliced'</li><li>'ENSMUSG00000119951-unspliced'</li></ol>\n"
      ],
      "text/latex": [
       "\\begin{enumerate*}\n",
       "\\item 'Igkv8-16'\n",
       "\\item 'Igkj5-unspliced'\n",
       "\\item 'Igkv6-17'\n",
       "\\item 'Gm30211-unspliced'\n",
       "\\item 'Igkc'\n",
       "\\item 'Igkj4'\n",
       "\\item 'Igkv3-10'\n",
       "\\item 'Igkv6-13'\n",
       "\\item 'ENSMUSG00000120845-unspliced'\n",
       "\\item 'Igkv3-12-1'\n",
       "\\item 'Igkv3-4-unspliced'\n",
       "\\item 'Igkv6-25'\n",
       "\\item 'Igkv8-18-unspliced'\n",
       "\\item 'Igkv3-3-unspliced'\n",
       "\\item 'Igkc-unspliced'\n",
       "\\item 'Igkv6-17-unspliced'\n",
       "\\item 'Igkv3-7-unspliced'\n",
       "\\item 'Igkj2-unspliced'\n",
       "\\item 'Igkv3-2'\n",
       "\\item 'Igkj4-unspliced'\n",
       "\\item 'Gm30211'\n",
       "\\item 'Igkj3-unspliced'\n",
       "\\item 'Igkj2'\n",
       "\\item 'Igkv6-13-unspliced'\n",
       "\\item 'Igkv3-12-unspliced'\n",
       "\\item 'Igkv3-2-unspliced'\n",
       "\\item 'Gm10360'\n",
       "\\item 'Igkv3-4'\n",
       "\\item 'Gm42720'\n",
       "\\item 'Igkj1'\n",
       "\\item 'Igkv3-6'\n",
       "\\item 'Igkv6-23-unspliced'\n",
       "\\item 'Igkv8-16-unspliced'\n",
       "\\item 'Igkv3-1'\n",
       "\\item 'Igkv3-3'\n",
       "\\item 'Igkv3-7'\n",
       "\\item 'Igkj5'\n",
       "\\item 'Igkv8-24-unspliced'\n",
       "\\item 'Igkv8-26'\n",
       "\\item 'ENSMUSG00000119951'\n",
       "\\item 'Igkv3-1-unspliced'\n",
       "\\item 'Igkv3-11'\n",
       "\\item 'Igkj1-unspliced'\n",
       "\\item 'Igkv3-10-unspliced'\n",
       "\\item 'Igkv3-5'\n",
       "\\item 'Igkv6-14'\n",
       "\\item 'Igkv6-25-unspliced'\n",
       "\\item 'ENSMUSG00000119951-unspliced'\n",
       "\\end{enumerate*}\n"
      ],
      "text/markdown": [
       "1. 'Igkv8-16'\n",
       "2. 'Igkj5-unspliced'\n",
       "3. 'Igkv6-17'\n",
       "4. 'Gm30211-unspliced'\n",
       "5. 'Igkc'\n",
       "6. 'Igkj4'\n",
       "7. 'Igkv3-10'\n",
       "8. 'Igkv6-13'\n",
       "9. 'ENSMUSG00000120845-unspliced'\n",
       "10. 'Igkv3-12-1'\n",
       "11. 'Igkv3-4-unspliced'\n",
       "12. 'Igkv6-25'\n",
       "13. 'Igkv8-18-unspliced'\n",
       "14. 'Igkv3-3-unspliced'\n",
       "15. 'Igkc-unspliced'\n",
       "16. 'Igkv6-17-unspliced'\n",
       "17. 'Igkv3-7-unspliced'\n",
       "18. 'Igkj2-unspliced'\n",
       "19. 'Igkv3-2'\n",
       "20. 'Igkj4-unspliced'\n",
       "21. 'Gm30211'\n",
       "22. 'Igkj3-unspliced'\n",
       "23. 'Igkj2'\n",
       "24. 'Igkv6-13-unspliced'\n",
       "25. 'Igkv3-12-unspliced'\n",
       "26. 'Igkv3-2-unspliced'\n",
       "27. 'Gm10360'\n",
       "28. 'Igkv3-4'\n",
       "29. 'Gm42720'\n",
       "30. 'Igkj1'\n",
       "31. 'Igkv3-6'\n",
       "32. 'Igkv6-23-unspliced'\n",
       "33. 'Igkv8-16-unspliced'\n",
       "34. 'Igkv3-1'\n",
       "35. 'Igkv3-3'\n",
       "36. 'Igkv3-7'\n",
       "37. 'Igkj5'\n",
       "38. 'Igkv8-24-unspliced'\n",
       "39. 'Igkv8-26'\n",
       "40. 'ENSMUSG00000119951'\n",
       "41. 'Igkv3-1-unspliced'\n",
       "42. 'Igkv3-11'\n",
       "43. 'Igkj1-unspliced'\n",
       "44. 'Igkv3-10-unspliced'\n",
       "45. 'Igkv3-5'\n",
       "46. 'Igkv6-14'\n",
       "47. 'Igkv6-25-unspliced'\n",
       "48. 'ENSMUSG00000119951-unspliced'\n",
       "\n",
       "\n"
      ],
      "text/plain": [
       " [1] \"Igkv8-16\"                     \"Igkj5-unspliced\"             \n",
       " [3] \"Igkv6-17\"                     \"Gm30211-unspliced\"           \n",
       " [5] \"Igkc\"                         \"Igkj4\"                       \n",
       " [7] \"Igkv3-10\"                     \"Igkv6-13\"                    \n",
       " [9] \"ENSMUSG00000120845-unspliced\" \"Igkv3-12-1\"                  \n",
       "[11] \"Igkv3-4-unspliced\"            \"Igkv6-25\"                    \n",
       "[13] \"Igkv8-18-unspliced\"           \"Igkv3-3-unspliced\"           \n",
       "[15] \"Igkc-unspliced\"               \"Igkv6-17-unspliced\"          \n",
       "[17] \"Igkv3-7-unspliced\"            \"Igkj2-unspliced\"             \n",
       "[19] \"Igkv3-2\"                      \"Igkj4-unspliced\"             \n",
       "[21] \"Gm30211\"                      \"Igkj3-unspliced\"             \n",
       "[23] \"Igkj2\"                        \"Igkv6-13-unspliced\"          \n",
       "[25] \"Igkv3-12-unspliced\"           \"Igkv3-2-unspliced\"           \n",
       "[27] \"Gm10360\"                      \"Igkv3-4\"                     \n",
       "[29] \"Gm42720\"                      \"Igkj1\"                       \n",
       "[31] \"Igkv3-6\"                      \"Igkv6-23-unspliced\"          \n",
       "[33] \"Igkv8-16-unspliced\"           \"Igkv3-1\"                     \n",
       "[35] \"Igkv3-3\"                      \"Igkv3-7\"                     \n",
       "[37] \"Igkj5\"                        \"Igkv8-24-unspliced\"          \n",
       "[39] \"Igkv8-26\"                     \"ENSMUSG00000119951\"          \n",
       "[41] \"Igkv3-1-unspliced\"            \"Igkv3-11\"                    \n",
       "[43] \"Igkj1-unspliced\"              \"Igkv3-10-unspliced\"          \n",
       "[45] \"Igkv3-5\"                      \"Igkv6-14\"                    \n",
       "[47] \"Igkv6-25-unspliced\"           \"ENSMUSG00000119951-unspliced\""
      ]
     },
     "metadata": {},
     "output_type": "display_data"
    }
   ],
   "source": [
    "common_genes"
   ]
  },
  {
   "cell_type": "code",
   "execution_count": null,
   "id": "09da39e6-3262-417d-beb1-589193ab2ebf",
   "metadata": {},
   "outputs": [],
   "source": []
  }
 ],
 "metadata": {
  "kernelspec": {
   "display_name": "R",
   "language": "R",
   "name": "ir"
  },
  "language_info": {
   "codemirror_mode": "r",
   "file_extension": ".r",
   "mimetype": "text/x-r-source",
   "name": "R",
   "pygments_lexer": "r",
   "version": "4.4.0"
  }
 },
 "nbformat": 4,
 "nbformat_minor": 5
}
