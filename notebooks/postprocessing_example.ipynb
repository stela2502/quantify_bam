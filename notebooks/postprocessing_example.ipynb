{
 "cells": [
  {
   "cell_type": "code",
   "execution_count": 1,
   "id": "1251e003-c003-4c13-98ae-300c8cb1e87d",
   "metadata": {},
   "outputs": [
    {
     "name": "stdout",
     "output_type": "stream",
     "text": [
      "time: 5.63 s (started: 2024-12-16 08:51:02 +01:00)\n"
     ]
    }
   ],
   "source": [
    "%load_ext autotime \n",
    "\n",
    "import scanpy as sc\n",
    "import scvi\n",
    "import torch\n",
    "from rich import print\n",
    "\n",
    "\n",
    "import scvelo as scv\n",
    "import loompy\n",
    "import scanpy\n",
    "import igraph\n",
    "import glob, os\n",
    "import pandas as pd\n",
    "import os\n",
    "import re\n",
    "import subprocess\n",
    "from collections import Counter\n",
    "import numpy as np\n",
    "from shutil import rmtree\n",
    "\n",
    "import anndata\n",
    "\n",
    "import h5py\n",
    "from shutil import copyfile"
   ]
  },
  {
   "cell_type": "code",
   "execution_count": 2,
   "id": "e52085ce-84e7-4b52-9f5e-5c42388a8f85",
   "metadata": {},
   "outputs": [
    {
     "name": "stdout",
     "output_type": "stream",
     "text": [
      "time: 275 μs (started: 2024-12-16 08:51:08 +01:00)\n"
     ]
    }
   ],
   "source": [
    "ipath = \"../BD_results/quantify_bam_output_multi_correct/BD_Rhapsody_expression/\"\n",
    "raw = \"correct_quantification_v2_test_raw.h5ad\"\n",
    "analyzed = \"correct_quantification_v2_test_analyzed.h5ad\""
   ]
  },
  {
   "cell_type": "code",
   "execution_count": 3,
   "id": "5107bbfb-dfb7-437b-9bb3-3c2a15c4d94a",
   "metadata": {},
   "outputs": [
    {
     "data": {
      "text/html": [
       "<pre style=\"white-space:pre;overflow-x:auto;line-height:normal;font-family:Menlo,'DejaVu Sans Mono',consolas,'Courier New',monospace\">Last run with scvi-tools version: <span style=\"color: #008080; text-decoration-color: #008080; font-weight: bold\">1.2</span>.<span style=\"color: #008080; text-decoration-color: #008080; font-weight: bold\">0</span>\n",
       "</pre>\n"
      ],
      "text/plain": [
       "Last run with scvi-tools version: \u001b[1;36m1.2\u001b[0m.\u001b[1;36m0\u001b[0m\n"
      ]
     },
     "metadata": {},
     "output_type": "display_data"
    },
    {
     "data": {
      "text/html": [
       "<pre style=\"white-space:pre;overflow-x:auto;line-height:normal;font-family:Menlo,'DejaVu Sans Mono',consolas,'Courier New',monospace\"><span style=\"color: #808000; text-decoration-color: #808000\">scanpy</span>==<span style=\"color: #008080; text-decoration-color: #008080; font-weight: bold\">1.10</span>.<span style=\"color: #008080; text-decoration-color: #008080; font-weight: bold\">3</span>\n",
       "<span style=\"color: #808000; text-decoration-color: #808000\">scvi</span>==<span style=\"color: #008080; text-decoration-color: #008080; font-weight: bold\">1.2</span>.<span style=\"color: #008080; text-decoration-color: #008080; font-weight: bold\">0</span>\n",
       "<span style=\"color: #808000; text-decoration-color: #808000\">torch</span>==<span style=\"color: #008080; text-decoration-color: #008080; font-weight: bold\">2.5</span>.<span style=\"color: #008080; text-decoration-color: #008080; font-weight: bold\">1</span>+cu124\n",
       "<span style=\"color: #808000; text-decoration-color: #808000\">scvelo</span>==<span style=\"color: #008080; text-decoration-color: #008080; font-weight: bold\">0.3</span>.<span style=\"color: #008080; text-decoration-color: #008080; font-weight: bold\">3.</span>dev12+g22b6e7e\n",
       "<span style=\"color: #808000; text-decoration-color: #808000\">loompy</span>==<span style=\"color: #008080; text-decoration-color: #008080; font-weight: bold\">3.0</span>.<span style=\"color: #008080; text-decoration-color: #008080; font-weight: bold\">7</span>\n",
       "<span style=\"color: #808000; text-decoration-color: #808000\">scanpy</span>==<span style=\"color: #008080; text-decoration-color: #008080; font-weight: bold\">1.10</span>.<span style=\"color: #008080; text-decoration-color: #008080; font-weight: bold\">3</span>\n",
       "<span style=\"color: #808000; text-decoration-color: #808000\">igraph</span>==<span style=\"color: #008080; text-decoration-color: #008080; font-weight: bold\">0.11</span>.<span style=\"color: #008080; text-decoration-color: #008080; font-weight: bold\">6</span>\n",
       "<span style=\"color: #808000; text-decoration-color: #808000\">pandas</span>==<span style=\"color: #008080; text-decoration-color: #008080; font-weight: bold\">2.2</span>.<span style=\"color: #008080; text-decoration-color: #008080; font-weight: bold\">3</span>\n",
       "<span style=\"color: #808000; text-decoration-color: #808000\">re</span>==<span style=\"color: #008080; text-decoration-color: #008080; font-weight: bold\">2.2</span>.<span style=\"color: #008080; text-decoration-color: #008080; font-weight: bold\">1</span>\n",
       "<span style=\"color: #808000; text-decoration-color: #808000\">numpy</span>==<span style=\"color: #008080; text-decoration-color: #008080; font-weight: bold\">1.26</span>.<span style=\"color: #008080; text-decoration-color: #008080; font-weight: bold\">4</span>\n",
       "<span style=\"color: #808000; text-decoration-color: #808000\">anndata</span>==<span style=\"color: #008080; text-decoration-color: #008080; font-weight: bold\">0.10</span>.<span style=\"color: #008080; text-decoration-color: #008080; font-weight: bold\">8</span>\n",
       "<span style=\"color: #808000; text-decoration-color: #808000\">h5py</span>==<span style=\"color: #008080; text-decoration-color: #008080; font-weight: bold\">3.12</span>.<span style=\"color: #008080; text-decoration-color: #008080; font-weight: bold\">1</span>\n",
       "</pre>\n"
      ],
      "text/plain": [
       "\u001b[33mscanpy\u001b[0m==\u001b[1;36m1.10\u001b[0m.\u001b[1;36m3\u001b[0m\n",
       "\u001b[33mscvi\u001b[0m==\u001b[1;36m1.2\u001b[0m.\u001b[1;36m0\u001b[0m\n",
       "\u001b[33mtorch\u001b[0m==\u001b[1;36m2.5\u001b[0m.\u001b[1;36m1\u001b[0m+cu124\n",
       "\u001b[33mscvelo\u001b[0m==\u001b[1;36m0.3\u001b[0m.\u001b[1;36m3.\u001b[0mdev12+g22b6e7e\n",
       "\u001b[33mloompy\u001b[0m==\u001b[1;36m3.0\u001b[0m.\u001b[1;36m7\u001b[0m\n",
       "\u001b[33mscanpy\u001b[0m==\u001b[1;36m1.10\u001b[0m.\u001b[1;36m3\u001b[0m\n",
       "\u001b[33migraph\u001b[0m==\u001b[1;36m0.11\u001b[0m.\u001b[1;36m6\u001b[0m\n",
       "\u001b[33mpandas\u001b[0m==\u001b[1;36m2.2\u001b[0m.\u001b[1;36m3\u001b[0m\n",
       "\u001b[33mre\u001b[0m==\u001b[1;36m2.2\u001b[0m.\u001b[1;36m1\u001b[0m\n",
       "\u001b[33mnumpy\u001b[0m==\u001b[1;36m1.26\u001b[0m.\u001b[1;36m4\u001b[0m\n",
       "\u001b[33manndata\u001b[0m==\u001b[1;36m0.10\u001b[0m.\u001b[1;36m8\u001b[0m\n",
       "\u001b[33mh5py\u001b[0m==\u001b[1;36m3.12\u001b[0m.\u001b[1;36m1\u001b[0m\n"
      ]
     },
     "metadata": {},
     "output_type": "display_data"
    },
    {
     "name": "stdout",
     "output_type": "stream",
     "text": [
      "time: 7.57 ms (started: 2024-12-16 08:51:08 +01:00)\n"
     ]
    }
   ],
   "source": [
    "print(\"Last run with scvi-tools version:\", scvi.__version__)\n",
    "print('\\n'.join(f'{m.__name__}=={m.__version__}' for m in globals().values() if getattr(m, '__version__', None)))"
   ]
  },
  {
   "cell_type": "code",
   "execution_count": 4,
   "id": "8a1660d4-68f4-4944-93e8-5fb0e8c34f6e",
   "metadata": {},
   "outputs": [
    {
     "name": "stdout",
     "output_type": "stream",
     "text": [
      "time: 25.6 s (started: 2024-12-16 08:51:08 +01:00)\n"
     ]
    }
   ],
   "source": [
    "adata = scanpy.read_10x_mtx( ipath )"
   ]
  },
  {
   "cell_type": "code",
   "execution_count": 5,
   "id": "a85b6680-b18d-4f38-a964-0f0ce827a592",
   "metadata": {},
   "outputs": [
    {
     "data": {
      "text/plain": [
       "AnnData object with n_obs × n_vars = 112327 × 102327\n",
       "    var: 'gene_ids', 'feature_types'"
      ]
     },
     "execution_count": 5,
     "metadata": {},
     "output_type": "execute_result"
    },
    {
     "name": "stdout",
     "output_type": "stream",
     "text": [
      "time: 1.93 ms (started: 2024-12-16 08:51:33 +01:00)\n"
     ]
    }
   ],
   "source": [
    "adata"
   ]
  },
  {
   "cell_type": "code",
   "execution_count": 6,
   "id": "b0110752-3769-4d12-b70e-307a205fcfe1",
   "metadata": {},
   "outputs": [
    {
     "data": {
      "text/plain": [
       "['Srcin1_unspliced_antisense',\n",
       " 'Arhgef10_unspliced_antisense',\n",
       " 'Pot1a_unspliced_antisense',\n",
       " 'Rorb_unspliced_antisense',\n",
       " '4933409G03Rik_unspliced_antisense',\n",
       " 'Nlrc4_unspliced_antisense',\n",
       " 'Phf1_unspliced_antisense',\n",
       " 'Gm36431_unspliced_antisense',\n",
       " 'Atg10_unspliced_antisense']"
      ]
     },
     "execution_count": 6,
     "metadata": {},
     "output_type": "execute_result"
    },
    {
     "name": "stdout",
     "output_type": "stream",
     "text": [
      "time: 35.9 ms (started: 2024-12-16 08:51:33 +01:00)\n"
     ]
    }
   ],
   "source": [
    "# Extract gene names and identify suffixes\n",
    "gene_names = adata.var.index.tolist()\n",
    "spliced_genes = [name for name in gene_names if not name.endswith(('_unspliced','_unspliced_antisense', '_antisense', '_ext'))]\n",
    "unspliced_genes = [name for name in gene_names if name.endswith('_unspliced')]\n",
    "antisense_genes = [name for name in gene_names if name.endswith('_antisense')]\n",
    "unspl_antisens_genes =  [name for name in gene_names if name.endswith('_unspliced_antisense')]\n",
    "ext_genes = [name for name in gene_names if name.endswith('_ext')]\n",
    "unspl_antisens_genes[1:10]"
   ]
  },
  {
   "cell_type": "code",
   "execution_count": 7,
   "id": "1e98a2a7-611f-42ab-bce8-d40a5f24c327",
   "metadata": {},
   "outputs": [
    {
     "data": {
      "text/plain": [
       "['Srcin1',\n",
       " 'Arhgef10',\n",
       " 'Pot1a',\n",
       " 'Rorb',\n",
       " '4933409G03Rik',\n",
       " 'Nlrc4',\n",
       " 'Phf1',\n",
       " 'Gm36431',\n",
       " 'Atg10']"
      ]
     },
     "execution_count": 7,
     "metadata": {},
     "output_type": "execute_result"
    },
    {
     "name": "stdout",
     "output_type": "stream",
     "text": [
      "time: 6.99 ms (started: 2024-12-16 08:51:33 +01:00)\n"
     ]
    }
   ],
   "source": [
    "# Remove suffixes for consistency\n",
    "spliced_genes_clean = spliced_genes\n",
    "antisense_genes_clean = [name[:-10] for name in antisense_genes]\n",
    "unspliced_genes_clean = [name[:-10] for name in unspliced_genes]  # Remove '_unspliced'\n",
    "unspl_antisens_genes_clean = [name[:-20] for name in unspl_antisens_genes]  # Remove '_unspliced_antisense'\n",
    "unspl_antisens_genes_clean[1:10]"
   ]
  },
  {
   "cell_type": "code",
   "execution_count": 8,
   "id": "dc857a8b-ab57-4205-92b7-9780ed20d444",
   "metadata": {},
   "outputs": [
    {
     "data": {
      "text/html": [
       "<pre style=\"white-space:pre;overflow-x:auto;line-height:normal;font-family:Menlo,'DejaVu Sans Mono',consolas,'Courier New',monospace\"><span style=\"font-weight: bold\">[</span>\n",
       "    <span style=\"color: #008000; text-decoration-color: #008000\">'Srcin1_unspliced'</span>,\n",
       "    <span style=\"color: #008000; text-decoration-color: #008000\">'Cdh3'</span>,\n",
       "    <span style=\"color: #008000; text-decoration-color: #008000\">'Arhgef10_unspliced'</span>,\n",
       "    <span style=\"color: #008000; text-decoration-color: #008000\">'Rnf121'</span>,\n",
       "    <span style=\"color: #008000; text-decoration-color: #008000\">'Exosc7'</span>,\n",
       "    <span style=\"color: #008000; text-decoration-color: #008000\">'Pot1a_unspliced'</span>,\n",
       "    <span style=\"color: #008000; text-decoration-color: #008000\">'Agpat5'</span>,\n",
       "    <span style=\"color: #008000; text-decoration-color: #008000\">'Rorb_unspliced'</span>,\n",
       "    <span style=\"color: #008000; text-decoration-color: #008000\">'Gm15631'</span>\n",
       "<span style=\"font-weight: bold\">]</span>\n",
       "</pre>\n"
      ],
      "text/plain": [
       "\u001b[1m[\u001b[0m\n",
       "    \u001b[32m'Srcin1_unspliced'\u001b[0m,\n",
       "    \u001b[32m'Cdh3'\u001b[0m,\n",
       "    \u001b[32m'Arhgef10_unspliced'\u001b[0m,\n",
       "    \u001b[32m'Rnf121'\u001b[0m,\n",
       "    \u001b[32m'Exosc7'\u001b[0m,\n",
       "    \u001b[32m'Pot1a_unspliced'\u001b[0m,\n",
       "    \u001b[32m'Agpat5'\u001b[0m,\n",
       "    \u001b[32m'Rorb_unspliced'\u001b[0m,\n",
       "    \u001b[32m'Gm15631'\u001b[0m\n",
       "\u001b[1m]\u001b[0m\n"
      ]
     },
     "metadata": {},
     "output_type": "display_data"
    },
    {
     "data": {
      "text/plain": [
       "['Rnf121',\n",
       " 'Exosc7',\n",
       " 'Agpat5',\n",
       " 'Gm15631',\n",
       " 'Olfr133',\n",
       " 'Tbpl1',\n",
       " 'Tnni3k',\n",
       " 'Hnrnpab',\n",
       " 'A230087F16Rik']"
      ]
     },
     "execution_count": 8,
     "metadata": {},
     "output_type": "execute_result"
    },
    {
     "name": "stdout",
     "output_type": "stream",
     "text": [
      "time: 8.44 ms (started: 2024-12-16 08:51:33 +01:00)\n"
     ]
    }
   ],
   "source": [
    "print(antisense_genes_clean[1:10])\n",
    "antisense_genes_clean = [name for name in antisense_genes_clean if not name.endswith(('_unspliced' ))]\n",
    "antisense_genes_clean[1:10]"
   ]
  },
  {
   "cell_type": "code",
   "execution_count": 9,
   "id": "1f2eb06a-703f-483c-9630-c7eb6b00898d",
   "metadata": {},
   "outputs": [
    {
     "data": {
      "text/plain": [
       "32200"
      ]
     },
     "execution_count": 9,
     "metadata": {},
     "output_type": "execute_result"
    },
    {
     "name": "stdout",
     "output_type": "stream",
     "text": [
      "time: 12.5 ms (started: 2024-12-16 08:51:33 +01:00)\n"
     ]
    }
   ],
   "source": [
    "# Create a unified gene set\n",
    "all_genes = sorted(set(spliced_genes_clean + unspliced_genes_clean + antisense_genes_clean + unspl_antisens_genes_clean))\n",
    "len(all_genes)"
   ]
  },
  {
   "cell_type": "code",
   "execution_count": 10,
   "id": "30087bea-a459-4005-8653-bd99ceaeadcc",
   "metadata": {},
   "outputs": [
    {
     "data": {
      "text/plain": [
       "AnnData object with n_obs × n_vars = 112327 × 102327\n",
       "    obs: 'JH584302.1', 'SampleTag08_mm|stAbO', 'GL456239.1', 'SampleTag04_mm|stAbO', 'SampleTag05_mm|stAbO', 'SampleTag07_mm|stAbO', 'GL456370.1', 'SampleTag02_mm|stAbO', 'GL456378.1', 'MU069435.1', 'GL456382.1', 'GL456396.1', 'GL456360.1', 'GL456381.1', 'GL456359.1', 'GL456390.1', 'SampleTag06_mm|stAbO', 'GL456366.1', 'GL456385.1', 'GL456387.1', 'JH584301.1', 'SampleTag10_mm|stAbO', 'GL456368.1', 'GL456233.2', 'GL456394.1', 'GL456379.1', 'GL456372.1', 'GL456392.1', 'JH584300.1', 'GL456383.1', 'MU069434.1', 'GL456367.1', 'SampleTag09_mm|stAbO', 'phiX174', 'GL456389.1', 'SampleTag11_mm|stAbO', 'SampleTag01_mm|stAbO', 'SampleTag12_mm|stAbO', 'SampleTag03_mm|stAbO'\n",
       "    var: 'gene_ids', 'feature_types'"
      ]
     },
     "execution_count": 10,
     "metadata": {},
     "output_type": "execute_result"
    },
    {
     "name": "stdout",
     "output_type": "stream",
     "text": [
      "time: 23 ms (started: 2024-12-16 08:51:37 +01:00)\n"
     ]
    }
   ],
   "source": [
    "# Identify _ext genes\n",
    "ext_genes = [name for name in gene_names if name.endswith('_ext')]\n",
    "\n",
    "# Extract _ext expression data\n",
    "ext_mask = adata.var.index.isin(ext_genes)\n",
    "ext_data = pd.DataFrame(\n",
    "    adata[:, ext_mask].X.toarray(),\n",
    "    index=adata.obs_names,\n",
    "    columns=[name[:-4] for name in ext_genes]  # Remove '_ext' suffix for column names\n",
    ")\n",
    "\n",
    "# Add _ext data to adata.obs\n",
    "for col in ext_data.columns:\n",
    "    adata.obs[col] = ext_data[col] # Convert sparse data to dense for obs\n",
    "adata"
   ]
  },
  {
   "cell_type": "code",
   "execution_count": 11,
   "id": "8cd5f909-9894-446d-b6bb-ad20754caa38",
   "metadata": {},
   "outputs": [
    {
     "name": "stdout",
     "output_type": "stream",
     "text": [
      "time: 354 ms (started: 2024-12-16 08:51:41 +01:00)\n"
     ]
    }
   ],
   "source": [
    "# Remove _ext genes from the main data\n",
    "non_ext_mask = ~ext_mask\n",
    "adata._inplace_subset_var(non_ext_mask)"
   ]
  },
  {
   "cell_type": "code",
   "execution_count": 12,
   "id": "dfe0b8a3-766d-4778-a466-596164ddf830",
   "metadata": {},
   "outputs": [
    {
     "data": {
      "text/plain": [
       "AnnData object with n_obs × n_vars = 112327 × 102288\n",
       "    obs: 'JH584302.1', 'SampleTag08_mm|stAbO', 'GL456239.1', 'SampleTag04_mm|stAbO', 'SampleTag05_mm|stAbO', 'SampleTag07_mm|stAbO', 'GL456370.1', 'SampleTag02_mm|stAbO', 'GL456378.1', 'MU069435.1', 'GL456382.1', 'GL456396.1', 'GL456360.1', 'GL456381.1', 'GL456359.1', 'GL456390.1', 'SampleTag06_mm|stAbO', 'GL456366.1', 'GL456385.1', 'GL456387.1', 'JH584301.1', 'SampleTag10_mm|stAbO', 'GL456368.1', 'GL456233.2', 'GL456394.1', 'GL456379.1', 'GL456372.1', 'GL456392.1', 'JH584300.1', 'GL456383.1', 'MU069434.1', 'GL456367.1', 'SampleTag09_mm|stAbO', 'phiX174', 'GL456389.1', 'SampleTag11_mm|stAbO', 'SampleTag01_mm|stAbO', 'SampleTag12_mm|stAbO', 'SampleTag03_mm|stAbO'\n",
       "    var: 'gene_ids', 'feature_types'"
      ]
     },
     "execution_count": 12,
     "metadata": {},
     "output_type": "execute_result"
    },
    {
     "name": "stdout",
     "output_type": "stream",
     "text": [
      "time: 1.76 ms (started: 2024-12-16 08:51:42 +01:00)\n"
     ]
    }
   ],
   "source": [
    "adata"
   ]
  },
  {
   "cell_type": "code",
   "execution_count": 13,
   "id": "defa9c9a-dee9-4054-8e6b-0359715a4b23",
   "metadata": {},
   "outputs": [
    {
     "name": "stdout",
     "output_type": "stream",
     "text": [
      "time: 543 μs (started: 2024-12-16 08:51:47 +01:00)\n"
     ]
    }
   ],
   "source": [
    "from scipy.sparse import csr_matrix\n",
    "# Create layers for unspliced and antisense with aligned genes\n",
    "def align_layer(adata, genes, real_name, layer_name):\n",
    "    aligned_data = np.zeros((adata.n_obs, len(all_genes)))\n",
    "    gene_to_idx = {gene: i for i, gene in enumerate(all_genes)}\n",
    "    for i, gene in enumerate(genes):\n",
    "        if gene in all_genes:\n",
    "            aligned_data[:, gene_to_idx[gene]] = adata[:, real_name[i]].X.toarray().flatten()\n",
    "    return csr_matrix(aligned_data)\n"
   ]
  },
  {
   "cell_type": "code",
   "execution_count": 14,
   "id": "33582aab-c2d2-4521-bf7e-0b0d3f3a9fdc",
   "metadata": {},
   "outputs": [
    {
     "data": {
      "text/plain": [
       "['0610005C13Rik',\n",
       " '0610006L08Rik',\n",
       " '0610009B22Rik',\n",
       " '0610009E02Rik',\n",
       " '0610009L18Rik',\n",
       " '0610010K14Rik',\n",
       " '0610012D04Rik',\n",
       " '0610012G03Rik',\n",
       " '0610025J13Rik',\n",
       " '0610030E20Rik']"
      ]
     },
     "execution_count": 14,
     "metadata": {},
     "output_type": "execute_result"
    },
    {
     "name": "stdout",
     "output_type": "stream",
     "text": [
      "time: 1.58 ms (started: 2024-12-16 08:51:47 +01:00)\n"
     ]
    }
   ],
   "source": [
    "all_genes[0:10]"
   ]
  },
  {
   "cell_type": "code",
   "execution_count": 15,
   "id": "f04488ba-9ebe-4bf1-a4ef-16868209ed40",
   "metadata": {},
   "outputs": [
    {
     "data": {
      "text/plain": [
       "['Pcdhb8',\n",
       " 'Mcrip1',\n",
       " 'Ighv2-9',\n",
       " 'Mmgt2',\n",
       " 'Fam184a',\n",
       " 'Orai1',\n",
       " 'Gm8013',\n",
       " 'ENSMUSG00000120264',\n",
       " 'Arpc5l',\n",
       " 'Pom121']"
      ]
     },
     "execution_count": 15,
     "metadata": {},
     "output_type": "execute_result"
    },
    {
     "name": "stdout",
     "output_type": "stream",
     "text": [
      "time: 1.33 ms (started: 2024-12-16 08:51:48 +01:00)\n"
     ]
    }
   ],
   "source": [
    "spliced_genes_clean[0:10]"
   ]
  },
  {
   "cell_type": "code",
   "execution_count": 16,
   "id": "7d872a82-48bc-4b26-8bd2-1ae288fce713",
   "metadata": {},
   "outputs": [
    {
     "data": {
      "text/plain": [
       "['Zbtb48_unspliced_antisense',\n",
       " 'Srcin1_unspliced_antisense',\n",
       " 'Cdh3_antisense',\n",
       " 'Arhgef10_unspliced_antisense',\n",
       " 'Rnf121_antisense',\n",
       " 'Exosc7_antisense',\n",
       " 'Pot1a_unspliced_antisense',\n",
       " 'Agpat5_antisense',\n",
       " 'Rorb_unspliced_antisense',\n",
       " 'Gm15631_antisense']"
      ]
     },
     "execution_count": 16,
     "metadata": {},
     "output_type": "execute_result"
    },
    {
     "name": "stdout",
     "output_type": "stream",
     "text": [
      "time: 1.42 ms (started: 2024-12-16 08:51:50 +01:00)\n"
     ]
    }
   ],
   "source": [
    "antisense_genes[0:10]"
   ]
  },
  {
   "cell_type": "code",
   "execution_count": 17,
   "id": "57c88813-f141-47bf-ac5e-c437239b0ea7",
   "metadata": {},
   "outputs": [
    {
     "data": {
      "text/plain": [
       "<Compressed Sparse Row sparse matrix of dtype 'float64'\n",
       "\twith 105926808 stored elements and shape (112327, 32200)>"
      ]
     },
     "execution_count": 17,
     "metadata": {},
     "output_type": "execute_result"
    },
    {
     "name": "stdout",
     "output_type": "stream",
     "text": [
      "time: 1min 13s (started: 2024-12-16 08:51:58 +01:00)\n"
     ]
    }
   ],
   "source": [
    "spliced = align_layer(adata, spliced_genes_clean, spliced_genes, 'antisense')\n",
    "spliced"
   ]
  },
  {
   "cell_type": "code",
   "execution_count": 18,
   "id": "0cfe16a4-3b5f-4e19-b866-efc93c8671bc",
   "metadata": {},
   "outputs": [
    {
     "name": "stdout",
     "output_type": "stream",
     "text": [
      "time: 12.1 ms (started: 2024-12-16 08:53:15 +01:00)\n"
     ]
    }
   ],
   "source": [
    "# Build the new AnnData object\n",
    "new_adata = anndata.AnnData(\n",
    "    X=spliced,\n",
    "    obs=adata.obs.copy(),\n",
    "    var=pd.DataFrame(index=all_genes)\n",
    ")"
   ]
  },
  {
   "cell_type": "code",
   "execution_count": 19,
   "id": "abc7169f-5225-4c62-9db5-79fec2b3d655",
   "metadata": {},
   "outputs": [
    {
     "data": {
      "text/plain": [
       "AnnData object with n_obs × n_vars = 112327 × 32200\n",
       "    obs: 'JH584302.1', 'SampleTag08_mm|stAbO', 'GL456239.1', 'SampleTag04_mm|stAbO', 'SampleTag05_mm|stAbO', 'SampleTag07_mm|stAbO', 'GL456370.1', 'SampleTag02_mm|stAbO', 'GL456378.1', 'MU069435.1', 'GL456382.1', 'GL456396.1', 'GL456360.1', 'GL456381.1', 'GL456359.1', 'GL456390.1', 'SampleTag06_mm|stAbO', 'GL456366.1', 'GL456385.1', 'GL456387.1', 'JH584301.1', 'SampleTag10_mm|stAbO', 'GL456368.1', 'GL456233.2', 'GL456394.1', 'GL456379.1', 'GL456372.1', 'GL456392.1', 'JH584300.1', 'GL456383.1', 'MU069434.1', 'GL456367.1', 'SampleTag09_mm|stAbO', 'phiX174', 'GL456389.1', 'SampleTag11_mm|stAbO', 'SampleTag01_mm|stAbO', 'SampleTag12_mm|stAbO', 'SampleTag03_mm|stAbO'"
      ]
     },
     "execution_count": 19,
     "metadata": {},
     "output_type": "execute_result"
    },
    {
     "name": "stdout",
     "output_type": "stream",
     "text": [
      "time: 1.68 ms (started: 2024-12-16 08:53:17 +01:00)\n"
     ]
    }
   ],
   "source": [
    "new_adata"
   ]
  },
  {
   "cell_type": "code",
   "execution_count": 20,
   "id": "a2a41a21-125a-4ae6-b6cf-f69989f41cd9",
   "metadata": {},
   "outputs": [
    {
     "name": "stdout",
     "output_type": "stream",
     "text": [
      "time: 1min 15s (started: 2024-12-16 08:53:20 +01:00)\n"
     ]
    }
   ],
   "source": [
    "new_adata.layers['unspliced'] =align_layer(adata, unspliced_genes_clean, unspliced_genes, 'antisense')"
   ]
  },
  {
   "cell_type": "code",
   "execution_count": 21,
   "id": "6aef45fb-8789-4072-97dd-4b7b92eb0ca3",
   "metadata": {},
   "outputs": [
    {
     "name": "stdout",
     "output_type": "stream",
     "text": [
      "time: 1min 7s (started: 2024-12-16 08:54:36 +01:00)\n"
     ]
    }
   ],
   "source": [
    "new_adata.layers['antisense'] =align_layer(adata, antisense_genes_clean, antisense_genes, 'antisense')"
   ]
  },
  {
   "cell_type": "code",
   "execution_count": 22,
   "id": "b90df783-5e3a-4c52-8ae5-bb74199d0ad6",
   "metadata": {},
   "outputs": [
    {
     "name": "stdout",
     "output_type": "stream",
     "text": [
      "time: 56.6 s (started: 2024-12-16 08:55:43 +01:00)\n"
     ]
    }
   ],
   "source": [
    "#unspl_antisens_genes_clean = [name[:-20] for name in unspl_antisens_genes]\n",
    "new_adata.layers['antisense_unspliced'] = align_layer(adata, unspl_antisens_genes_clean, unspl_antisens_genes, 'antisense')"
   ]
  },
  {
   "cell_type": "code",
   "execution_count": 23,
   "id": "2e7f0f01-50ab-46e9-b0e0-e4067b1d57c5",
   "metadata": {},
   "outputs": [
    {
     "name": "stdout",
     "output_type": "stream",
     "text": [
      "time: 392 μs (started: 2024-12-16 08:56:40 +01:00)\n"
     ]
    }
   ],
   "source": [
    "new_adata.layers['spliced'] = new_adata.X"
   ]
  },
  {
   "cell_type": "code",
   "execution_count": 24,
   "id": "ee17aa19-f903-4db6-8c01-45a9038475a6",
   "metadata": {},
   "outputs": [
    {
     "data": {
      "text/plain": [
       "AnnData object with n_obs × n_vars = 112327 × 32200\n",
       "    obs: 'JH584302.1', 'SampleTag08_mm|stAbO', 'GL456239.1', 'SampleTag04_mm|stAbO', 'SampleTag05_mm|stAbO', 'SampleTag07_mm|stAbO', 'GL456370.1', 'SampleTag02_mm|stAbO', 'GL456378.1', 'MU069435.1', 'GL456382.1', 'GL456396.1', 'GL456360.1', 'GL456381.1', 'GL456359.1', 'GL456390.1', 'SampleTag06_mm|stAbO', 'GL456366.1', 'GL456385.1', 'GL456387.1', 'JH584301.1', 'SampleTag10_mm|stAbO', 'GL456368.1', 'GL456233.2', 'GL456394.1', 'GL456379.1', 'GL456372.1', 'GL456392.1', 'JH584300.1', 'GL456383.1', 'MU069434.1', 'GL456367.1', 'SampleTag09_mm|stAbO', 'phiX174', 'GL456389.1', 'SampleTag11_mm|stAbO', 'SampleTag01_mm|stAbO', 'SampleTag12_mm|stAbO', 'SampleTag03_mm|stAbO'\n",
       "    layers: 'unspliced', 'antisense', 'antisense_unspliced', 'spliced'"
      ]
     },
     "execution_count": 24,
     "metadata": {},
     "output_type": "execute_result"
    },
    {
     "name": "stdout",
     "output_type": "stream",
     "text": [
      "time: 2.34 ms (started: 2024-12-16 08:56:40 +01:00)\n"
     ]
    }
   ],
   "source": [
    "new_adata"
   ]
  },
  {
   "cell_type": "code",
   "execution_count": 25,
   "id": "80398a1c-f566-48f7-acb5-d5e27f34c99f",
   "metadata": {},
   "outputs": [
    {
     "name": "stdout",
     "output_type": "stream",
     "text": [
      "-rw-r--r-- 1 stefanl jyuan 3.3G Dec 16 08:56 correct_quantification_v2_test_raw.h5ad\n",
      "time: 3.13 s (started: 2024-12-16 08:56:40 +01:00)\n"
     ]
    }
   ],
   "source": [
    "new_adata.write( raw )\n",
    "!ls -lhrt {raw}"
   ]
  },
  {
   "cell_type": "code",
   "execution_count": null,
   "id": "183212e7-fdbc-492b-8737-c5b9ae6d3086",
   "metadata": {},
   "outputs": [],
   "source": []
  }
 ],
 "metadata": {
  "kernelspec": {
   "display_name": "Python 3 (ipykernel)",
   "language": "python",
   "name": "python3"
  },
  "language_info": {
   "codemirror_mode": {
    "name": "ipython",
    "version": 3
   },
   "file_extension": ".py",
   "mimetype": "text/x-python",
   "name": "python",
   "nbconvert_exporter": "python",
   "pygments_lexer": "ipython3",
   "version": "3.12.3"
  }
 },
 "nbformat": 4,
 "nbformat_minor": 5
}
